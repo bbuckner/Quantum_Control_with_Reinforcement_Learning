{
 "cells": [
  {
   "cell_type": "code",
   "execution_count": 55,
   "metadata": {},
   "outputs": [],
   "source": [
    "import qiskit\n",
    "from qiskit.tools.visualization import plot_histogram\n",
    "import numpy as np\n",
    "import torch\n",
    "import torch.nn.functional as F\n",
    "from torch import optim\n",
    "from torch import nn \n",
    "from collections import namedtuple, deque\n",
    "import random\n",
    "import matplotlib.pyplot as plt\n",
    "from IPython.display import display\n",
    "from IPython.display import clear_output\n",
    "import time\n",
    "%matplotlib inline"
   ]
  },
  {
   "cell_type": "markdown",
   "metadata": {},
   "source": [
    "# Qiskit Environment Wrapper"
   ]
  },
  {
   "cell_type": "code",
   "execution_count": 60,
   "metadata": {},
   "outputs": [],
   "source": [
    "class QuantumCircuitEnvironment():\n",
    "    \n",
    "    def __init__(self, n_qbits, goal_state, max_t, graphics=False):\n",
    "        self.n_qbits = n_qbits\n",
    "        self.goal_state = goal_state # Used to calculate reward on each environment step\n",
    "        assert(len(goal_state) == (2 ** self.n_qbits)), \"goal_state must match the outcomes possible with n_qbits\"\n",
    "        self.graphics = graphics\n",
    "        \"\"\"\n",
    "        self.n_shots needs to be an arbirarily large number otherwise the variance in intermediate and final\n",
    "        states will be so large that the model will never converge.  Also it would cause some episodes to never \n",
    "        end due to the terminal criteria of the environment.\n",
    "        \"\"\"\n",
    "        self.max_t = max_t\n",
    "        self.t = 0\n",
    "        self.n_shots = 100000 \n",
    "        self.sim = qiskit.Aer.get_backend('qasm_simulator')\n",
    "        self.qc = qiskit.QuantumCircuit(self.n_qbits, self.n_qbits)\n",
    "        self.actions = {0:(lambda:self.qc.h(0)),1:(lambda:self.qc.h(1)),2:(lambda:self.qc.h(2)), \n",
    "                        3:(lambda:self.qc.x(0)),4:(lambda:self.qc.x(1)),5:(lambda:self.qc.x(2)), \n",
    "                        6:(lambda:self.qc.cx(0,1)),7:(lambda:self.qc.cx(0,2)),8:(lambda:self.qc.cx(1,2)),\n",
    "                        9:(lambda:self.qc.cx(1,0)),10:(lambda:self.qc.cx(2,0)),11:(lambda:self.qc.cx(2,1))}\n",
    "\n",
    "    def step(self, action):\n",
    "        self.t += 1\n",
    "        # Delete the 3 measurements of the previous env step, not possible with an actual quantum register.\n",
    "        self.qc.data = self.qc.data[:-3] \n",
    "        self.actions[action]()\n",
    "        if self.graphics:\n",
    "            display(self.qc.draw(output='mpl'))\n",
    "        self.qc.measure([i for i in range(self.n_qbits)], [i for i in range(self.n_qbits)])\n",
    "        counts = qiskit.execute(self.qc, backend=self.sim, shots=self.n_shots).result().get_counts()     \n",
    "        max_diff = 0\n",
    "        next_state = []\n",
    "        for key in list(goal_state.keys()):\n",
    "            next_state.append(counts.get(key, 0) / self.n_shots)\n",
    "            diff = abs(next_state[-1] - goal_state[key])\n",
    "            if diff > max_diff:\n",
    "                max_diff = diff\n",
    "        done = True if max_diff < 0.02 or self.t == self.max_t else False\n",
    "#         if done and self.graphics:\n",
    "#             display(plot_histogram(counts))  \n",
    "        reward = -1 if not done else 0\n",
    "        next_state = np.array(next_state)\n",
    "        return next_state, reward, done\n",
    "    \n",
    "    def reset(self):\n",
    "        self.qc.data = []\n",
    "        if self.graphics:\n",
    "            display(self.qc.draw(output='mpl'))\n",
    "        self.t = 0\n",
    "        # Qiskit always starts all qbits in 0 state, so starting state is 100% all qbits '000'\n",
    "        start_state = np.array([1.0, 0, 0, 0, 0, 0, 0, 0])\n",
    "        return start_state"
   ]
  },
  {
   "cell_type": "markdown",
   "metadata": {},
   "source": [
    "# DQN Architecture"
   ]
  },
  {
   "cell_type": "code",
   "execution_count": 34,
   "metadata": {},
   "outputs": [],
   "source": [
    "class ReplayBuffer:\n",
    "    def __init__(self, action_size, buffer_size, batch_size, seed):\n",
    "        self.action_size = action_size\n",
    "        self.memory = deque(maxlen=buffer_size)  \n",
    "        self.batch_size = batch_size\n",
    "        self.experience = namedtuple(\"Experience\", field_names=[\"state\", \"action\", \"reward\", \"next_state\", \"done\"])\n",
    "        self.seed = random.seed(seed)\n",
    "    \n",
    "    def add(self, state, action, reward, next_state, done):\n",
    "        e = self.experience(state, action, reward, next_state, done)\n",
    "        self.memory.append(e)\n",
    "    \n",
    "    def sample(self, device):\n",
    "        experiences = random.sample(self.memory, k=self.batch_size)\n",
    "        states = torch.from_numpy(np.vstack([e.state for e in experiences if e is not None])).float().to(device)\n",
    "        actions = torch.from_numpy(np.vstack([e.action for e in experiences if e is not None])).long().to(device)\n",
    "        rewards = torch.from_numpy(np.vstack([e.reward for e in experiences if e is not None])).float().to(device)\n",
    "        next_states = torch.from_numpy(np.vstack([e.next_state for e in experiences if e is not None])).float().to(device)\n",
    "        dones = torch.from_numpy(np.vstack([e.done for e in experiences if e is not None]).astype(np.uint8)).float().to(device)\n",
    "        return (states, actions, rewards, next_states, dones)\n",
    "\n",
    "    def __len__(self):\n",
    "        return len(self.memory)"
   ]
  },
  {
   "cell_type": "code",
   "execution_count": 35,
   "metadata": {},
   "outputs": [],
   "source": [
    "class ActionValueNetwork(nn.Module):\n",
    "\n",
    "    def __init__(self, state_size, action_size, seed, fc1_units=64, fc2_units=64):\n",
    "        super(ActionValueNetwork, self).__init__()\n",
    "        self.seed = torch.manual_seed(seed)\n",
    "        self.fc1 = nn.Linear(state_size, fc1_units)\n",
    "        self.fc2 = nn.Linear(fc1_units, fc2_units)\n",
    "        self.fc3 = nn.Linear(fc2_units, action_size)\n",
    "\n",
    "    def forward(self, state):\n",
    "        x = F.relu(self.fc1(state))\n",
    "        x = F.relu(self.fc2(x))\n",
    "        return self.fc3(x)\n",
    "    \n",
    "    def save_checkpoint(self, filename):\n",
    "        torch.save(self.state_dict(), filename)\n",
    "    \n",
    "    def load_checkpoint(self, filename):\n",
    "        self.load_state_dict(torch.load(filename))"
   ]
  },
  {
   "cell_type": "code",
   "execution_count": 36,
   "metadata": {},
   "outputs": [],
   "source": [
    "class DQNAgent():\n",
    "\n",
    "    def __init__(self, state_size, action_size, seed=1, buffer_size=10000,\n",
    "                 batch_size=128, gamma=0.99, tau=.001, alpha=.001, update_every=4):\n",
    "        self.state_size = state_size\n",
    "        self.action_size = action_size\n",
    "        self.seed = random.seed(seed)\n",
    "        self.buffer_size = buffer_size\n",
    "        self.batch_size = batch_size\n",
    "        self.gamma = gamma\n",
    "        self.tau = tau\n",
    "        self.alpha = alpha\n",
    "        self.update_every = update_every\n",
    "        # Initialize time step (for updating every UPDATE_EVERY steps)\n",
    "        self.t_step = 0\n",
    "        self.device = torch.device(\"cuda:0\" if torch.cuda.is_available() else \"cpu\")\n",
    "        # Q-Network\n",
    "        self.qnetwork_local = ActionValueNetwork(state_size, action_size, seed).to(self.device)\n",
    "        self.qnetwork_target = ActionValueNetwork(state_size, action_size, seed).to(self.device)\n",
    "        self.optimizer = optim.Adam(self.qnetwork_local.parameters(), lr=alpha)\n",
    "        # Replay memory\n",
    "        self.memory = ReplayBuffer(action_size, buffer_size, batch_size, seed)\n",
    "    \n",
    "    def step(self, state, action, reward, next_state, done):\n",
    "        self.memory.add(state, action, reward, next_state, done)\n",
    "        if len(self.memory) > self.batch_size:\n",
    "            experiences = self.memory.sample(self.device)\n",
    "            self.learn(experiences)\n",
    "\n",
    "    def act(self, state, epsilon):\n",
    "        state = torch.from_numpy(state).float().unsqueeze(0).to(self.device)\n",
    "        self.qnetwork_local.eval()\n",
    "        with torch.no_grad():\n",
    "            action_values = self.qnetwork_local(state)\n",
    "        self.qnetwork_local.train()\n",
    "\n",
    "        if random.random() > epsilon:\n",
    "            return np.argmax(action_values.cpu().data.numpy())\n",
    "        else:\n",
    "            return random.choice(np.arange(self.action_size))\n",
    "\n",
    "    def learn(self, experiences):\n",
    "        states, actions, rewards, next_states, dones = experiences\n",
    "        # Get max predicted Q values (for next states) from target model\n",
    "        Q_targets_next = self.qnetwork_target(next_states).detach().max(1)[0].unsqueeze(1)\n",
    "        # Compute Q targets for current states \n",
    "        Q_targets = rewards + (self.gamma * Q_targets_next * (1 - dones))\n",
    "        # Get expected Q values from local model\n",
    "        Q_expected = self.qnetwork_local(states).gather(1, actions)\n",
    "        # Compute loss\n",
    "        loss = F.mse_loss(Q_expected, Q_targets)\n",
    "        # Minimize the loss\n",
    "        self.optimizer.zero_grad()\n",
    "        loss.backward()\n",
    "        self.optimizer.step()\n",
    "        # Update target networks if necessary\n",
    "        self.t_step = (self.t_step + 1) % self.update_every\n",
    "        if self.t_step == 0:\n",
    "            self.soft_update(self.qnetwork_local, self.qnetwork_target, self.tau)                     \n",
    "\n",
    "    def soft_update(self, local_model, target_model, tau):\n",
    "        for target_param, local_param in zip(target_model.parameters(), local_model.parameters()):\n",
    "            target_param.data.copy_(tau*local_param.data + (1.0-tau)*target_param.data)\n",
    "\n",
    "    def save_model(self, filename):\n",
    "        self.qnetwork_local.save_checkpoint(filename)\n",
    "    \n",
    "    def load_model(self, filename):\n",
    "        self.qnetwork_local.load_checkpoint(filename)"
   ]
  },
  {
   "cell_type": "markdown",
   "metadata": {},
   "source": [
    "# Hyperparameters and Goal State Specification"
   ]
  },
  {
   "cell_type": "code",
   "execution_count": 37,
   "metadata": {},
   "outputs": [],
   "source": [
    "# Goal State Specification\n",
    "n_qbits = 3\n",
    "goal_state = {'000' : 0, '001' : 0.25, '010' : 0.25, '011' : 0, '100' : 0, '101' : 0.25, '110' : 0.25, '111' : 0}\n",
    "max_t = 10 # Max timesteps per episode"
   ]
  },
  {
   "cell_type": "markdown",
   "metadata": {},
   "source": [
    "# Watch Trained Agent Create to meet goal"
   ]
  },
  {
   "cell_type": "code",
   "execution_count": 83,
   "metadata": {
    "scrolled": false
   },
   "outputs": [
    {
     "name": "stdout",
     "output_type": "stream",
     "text": [
      "Action: 6\n",
      "Next State:\n"
     ]
    },
    {
     "data": {
      "image/png": "[encoded data removed]",
      "text/plain": [
       "<Figure size 261.177x264.88 with 1 Axes>"
      ]
     },
     "metadata": {},
     "output_type": "display_data"
    },
    {
     "name": "stdout",
     "output_type": "stream",
     "text": [
      "Goal State Reached!\n",
      "Score: -3\n"
     ]
    }
   ],
   "source": [
    "env = QuantumCircuitEnvironment(n_qbits, goal_state, max_t, graphics=True)\n",
    "action_size = len(env.actions)\n",
    "state_size = len(env.goal_state)\n",
    "agent = DQNAgent(state_size, action_size)\n",
    "agent.load_model('best_model.pt')\n",
    "for episode in range(testing_episodes):\n",
    "    clear_output(wait = True)\n",
    "    print('Goal State:', list(goal_state.values()))\n",
    "    print('Start State:')\n",
    "    s = env.reset()\n",
    "    time.sleep(15)\n",
    "    score = 0\n",
    "    d = False\n",
    "    while not d:\n",
    "        a = agent.act(s, 0)\n",
    "        clear_output(wait=True)\n",
    "        print('Action:', a)\n",
    "        print('Next State:')\n",
    "        s_, r, d = env.step(a)\n",
    "        time.sleep(3)\n",
    "        score += r\n",
    "        s = s_\n",
    "    print('Goal State Reached!')\n",
    "    print('Score:', score)"
   ]
  },
  {
   "cell_type": "code",
   "execution_count": null,
   "metadata": {},
   "outputs": [],
   "source": []
  }
 ],
 "metadata": {
  "kernelspec": {
   "display_name": "Python 3",
   "language": "python",
   "name": "python3"
  },
  "language_info": {
   "codemirror_mode": {
    "name": "ipython",
    "version": 3
   },
   "file_extension": ".py",
   "mimetype": "text/x-python",
   "name": "python",
   "nbconvert_exporter": "python",
   "pygments_lexer": "ipython3",
   "version": "3.8.1"
  }
 },
 "nbformat": 4,
 "nbformat_minor": 4
}
